{
  "nbformat": 4,
  "nbformat_minor": 0,
  "metadata": {
    "colab": {
      "name": "Kopi af Check_activition_function.ipynb",
      "provenance": [],
      "include_colab_link": true
    },
    "kernelspec": {
      "name": "python3",
      "display_name": "Python 3"
    },
    "accelerator": "TPU"
  },
  "cells": [
    {
      "cell_type": "markdown",
      "metadata": {
        "id": "view-in-github",
        "colab_type": "text"
      },
      "source": [
        "<a href=\"https://colab.research.google.com/github/aalling93/cosc304-assignment5/blob/master/Kopi_af_Check_activition_function.ipynb\" target=\"_parent\"><img src=\"https://colab.research.google.com/assets/colab-badge.svg\" alt=\"Open In Colab\"/></a>"
      ]
    },
    {
      "cell_type": "markdown",
      "metadata": {
        "id": "jWz-xJAETcBW",
        "colab_type": "text"
      },
      "source": [
        "# Activity function\n",
        "The following codelab notebook is used to illustrate the different acitvty functions.\n",
        "\n",
        "For information on how to make the models, create layer, change hyper parameters ect, see the main document: A novel study of CNN.\n"
      ]
    },
    {
      "cell_type": "markdown",
      "metadata": {
        "id": "uh4NidBLTzmk",
        "colab_type": "text"
      },
      "source": [
        "## Initializaiton"
      ]
    },
    {
      "cell_type": "code",
      "metadata": {
        "id": "EGBhyXduT14c",
        "colab_type": "code",
        "outputId": "a6134084-1180-4890-f991-d7c2d9b6a0cb",
        "colab": {
          "base_uri": "https://localhost:8080/",
          "height": 68
        }
      },
      "source": [
        "\n",
        "try:\n",
        "  # %tensorflow_version only exists in Colab.\n",
        "  %tensorflow_version 2.x\n",
        "except Exception:\n",
        "  pass\n",
        "\n",
        "from __future__ import absolute_import, division, print_function, unicode_literals\n",
        "# TensorFlow and tf.keras\n",
        "import tensorflow as tf\n",
        "from tensorflow import keras\n",
        "from keras import regularizers\n",
        "# Helper libraries\n",
        "import numpy as np\n",
        "import matplotlib.pyplot as plt\n",
        "from tensorflow.keras.datasets import cifar10\n",
        "from tensorflow.keras.preprocessing.image import ImageDataGenerator\n",
        "from tensorflow.keras.models import Sequential\n",
        "from tensorflow.keras.layers import Dense, Dropout, Activation, Flatten, BatchNormalization\n",
        "from tensorflow.keras.layers import Conv2D, MaxPooling2D\n",
        "import os\n",
        "#To visualize it..\n",
        "from tensorflow.keras.utils import plot_model\n",
        "from IPython.display import SVG\n",
        "from tensorflow.keras.utils import model_to_dot\n",
        "\n",
        "print(tf.__version__)\n",
        "\n",
        "\n",
        "# FUNCTIONS\n",
        "import numpy as np\n",
        "import time\n",
        "import matplotlib.pyplot as plt\n",
        "from __future__ import print_function\n",
        "from sklearn import svm, datasets\n",
        "from sklearn.model_selection import train_test_split\n",
        "from sklearn.metrics import confusion_matrix\n",
        "from sklearn.utils.multiclass import unique_labels\n",
        "from PIL import Image as pil_image\n",
        "from tensorflow.keras.preprocessing.image import save_img\n",
        "from tensorflow.keras import layers\n",
        "from tensorflow.keras.applications import vgg16\n",
        "from tensorflow.keras import backend as K\n",
        "\n",
        "def plot_confusion_matrix(y_true, y_pred, classes,\n",
        "                          normalize=False,\n",
        "                          title=None,\n",
        "                          cmap=plt.cm.Blues):\n",
        "    \"\"\"\n",
        "    This function prints and plots the confusion matrix.\n",
        "    Normalization can be applied by setting `normalize=True`.\n",
        "    \"\"\"\n",
        "    if not title:\n",
        "        if normalize:\n",
        "            title = 'Normalized confusion matrix'\n",
        "        else:\n",
        "            title = 'Confusion matrix, without normalization'\n",
        "\n",
        "    # Compute confusion matrix\n",
        "    cm = confusion_matrix(y_true, y_pred)\n",
        "    # Only use the labels that appear in the data\n",
        "    classes = classes[unique_labels(y_true, y_pred)]\n",
        "    if normalize:\n",
        "        cm = cm.astype('float') / cm.sum(axis=1)[:, np.newaxis]\n",
        "        print(\"Normalized confusion matrix\")\n",
        "    else:\n",
        "        print('Confusion matrix, without normalization')\n",
        "\n",
        "    print(cm)\n",
        "\n",
        "    fig, ax = plt.subplots(figsize=(12,12))\n",
        "    im = ax.imshow(cm, interpolation='nearest', cmap=cmap)\n",
        "    ax.figure.colorbar(im, ax=ax)\n",
        "    \n",
        "    # We want to show all ticks...\n",
        "    ax.set(xticks=np.arange(cm.shape[1]),\n",
        "           yticks=np.arange(cm.shape[0]),\n",
        "           # ... and label them with the respective list entries\n",
        "           xticklabels=classes, yticklabels=classes,\n",
        "           title=title,\n",
        "           ylabel='True label',\n",
        "           xlabel='Predicted label')\n",
        "\n",
        "    # Rotate the tick labels and set their alignment.\n",
        "    plt.setp(ax.get_xticklabels(), rotation=45, ha=\"right\",\n",
        "             rotation_mode=\"anchor\")\n",
        "\n",
        "    # Loop over data dimensions and create text annotations.\n",
        "    fmt = '.2f' if normalize else 'd'\n",
        "    thresh = cm.max() / 2.\n",
        "    for i in range(cm.shape[0]):\n",
        "        for j in range(cm.shape[1]):\n",
        "            ax.text(j, i, format(cm[i, j], fmt),\n",
        "                    ha=\"center\", va=\"center\",\n",
        "                    color=\"white\" if cm[i, j] > thresh else \"black\")\n",
        "    fig.tight_layout()\n",
        "    return ax\n",
        "\n",
        "    "
      ],
      "execution_count": 1,
      "outputs": [
        {
          "output_type": "stream",
          "text": [
            "TensorFlow 2.x selected.\n",
            "2.0.0\n"
          ],
          "name": "stdout"
        },
        {
          "output_type": "stream",
          "text": [
            "Using TensorFlow backend.\n"
          ],
          "name": "stderr"
        }
      ]
    },
    {
      "cell_type": "markdown",
      "metadata": {
        "id": "0YzBP9j8UGBw",
        "colab_type": "text"
      },
      "source": [
        "### Getting and preparing dataset"
      ]
    },
    {
      "cell_type": "markdown",
      "metadata": {
        "id": "qzL05IDtU5MQ",
        "colab_type": "text"
      },
      "source": [
        "#### fetching\n"
      ]
    },
    {
      "cell_type": "code",
      "metadata": {
        "id": "LGr1TWMKUJiK",
        "colab_type": "code",
        "outputId": "b00f40b2-d680-424b-d947-75b1e3e04f48",
        "colab": {
          "base_uri": "https://localhost:8080/",
          "height": 102
        }
      },
      "source": [
        "#loading the set directly from keras bucket.\n",
        "cifar100 = tf.keras.datasets.cifar100\n",
        "#defining training(test) data and its labels. The data, split between train and test sets:\n",
        "(x_train, y_train), (x_test, y_test) = cifar10.load_data()\n",
        "# Making the set smaller since its for illustrative purposes.\n",
        "x_train = x_train[0:5000]\n",
        "y_train = y_train[0:5000]\n",
        "x_test = x_test[0:1000]\n",
        "y_test = y_test[0:1000]\n",
        "#see a bit of stats..\n",
        "print('x_train shape:', x_train.shape)\n",
        "print(x_train.shape[0], 'train samples')\n",
        "print(x_test.shape[0], 'test samples')\n",
        "# The data is already labbeled.. Othervise, define into classes like:\n",
        "# class_names = ['dolphin', 'dog', 'cat', 'mouse', 'ape',  '...']\n",
        "\n",
        "#\n"
      ],
      "execution_count": 2,
      "outputs": [
        {
          "output_type": "stream",
          "text": [
            "Downloading data from https://www.cs.toronto.edu/~kriz/cifar-10-python.tar.gz\n",
            "170500096/170498071 [==============================] - 2s 0us/step\n",
            "x_train shape: (5000, 32, 32, 3)\n",
            "5000 train samples\n",
            "1000 test samples\n"
          ],
          "name": "stdout"
        }
      ]
    },
    {
      "cell_type": "markdown",
      "metadata": {
        "id": "I6XAJVgTU7Ng",
        "colab_type": "text"
      },
      "source": [
        "#### parameters\n"
      ]
    },
    {
      "cell_type": "code",
      "metadata": {
        "id": "vIso_I8wUxUx",
        "colab_type": "code",
        "colab": {}
      },
      "source": [
        "#Convert class vectors to binary class matrices.\n",
        "num_classes = 10 #from 100 to 10 classes....# in the CIFAR10 theres 10 classes extracted from the CIFAR100 dataset..\n",
        "y_test_scivit = np.squeeze(np.copy(y_test)) #used for confusin matrix in scilearn lib. AFTER predictions are made...\n",
        "y_train = tf.keras.utils.to_categorical(y_train, num_classes)\n",
        "y_test = tf.keras.utils.to_categorical(y_test, num_classes)\n",
        "\n",
        "# ------ Hyper parameters to control the size of the output of CNN layer. Depth, stride and zero padding..\n",
        "#filter size\n",
        "filter_size = 3\n",
        "padding  = (filter_size-1)/2\n",
        "filter_size = (filter_size,filter_size)\n",
        "# Stride controls the \"overlap\" between neighoboring convolutions. For sattellite image, a strid of e.g. 10 is smart . This reduces the dimension.. If stride=1, we move filter one pixel at a time. \n",
        "stride = 3 \n",
        "#depth is number of neurons(filters) in the given layer connected to the input (either original img or feature img). \n",
        "depth = 5\n",
        "#number of filters used in the first Convolutional layer\n",
        "filters_first_layer = 20\n",
        "# Epoch is the number each batch is trained\n",
        "epoch=20\n",
        "#Using batch learning as in the theory\n",
        "batch_size = 20\n",
        "#num_predictions = 20"
      ],
      "execution_count": 0,
      "outputs": []
    },
    {
      "cell_type": "markdown",
      "metadata": {
        "id": "HqK6F9wJU9uI",
        "colab_type": "text"
      },
      "source": [
        "#### Making model"
      ]
    },
    {
      "cell_type": "code",
      "metadata": {
        "id": "7zy56oHJVAdQ",
        "colab_type": "code",
        "outputId": "127cc50f-2bfc-4ec8-e26c-e005186324a9",
        "colab": {
          "base_uri": "https://localhost:8080/",
          "height": 1000
        }
      },
      "source": [
        "#Scaling the data from [0:255] to [0:1]..\n",
        "x_test = x_test.astype('float32')\n",
        "x_train = x_train.astype('float32')\n",
        "x_train /= 255\n",
        "x_test /= 255\n",
        "\n",
        "#------------------------ BUILING THE MODEL FOR DIFFERENT ACTIVAATIONS ------------------------------------\n",
        "for activation in [None, 'sigmoid', 'tanh', 'relu']:\n",
        "  # Initializing the model using Sequntial(), The Sequential model is a linear stack of layers. https://keras.io/getting-started/sequential-model-guide/\n",
        "  model = Sequential()\n",
        "  model.add(Conv2D(filters_first_layer, filter_size, padding='same',input_shape=x_train.shape[1:]))\n",
        "  model.add(Activation('relu'))\n",
        "  model.add(BatchNormalization())\n",
        "  model.add(MaxPooling2D(pool_size=(2, 2)))\n",
        "  model.add(Dropout(0.1))\n",
        "  model.add(Conv2D(filters_first_layer, filter_size))\n",
        "  model.add(Activation('relu'))\n",
        "  model.add(BatchNormalization())\n",
        "  model.add(MaxPooling2D(pool_size=(2, 2)))\n",
        "  model.add(Dropout(0.1))\n",
        "  model.add(Conv2D(filters_first_layer*2, filter_size, padding='same'))\n",
        "  model.add(Activation('relu'))\n",
        "  model.add(BatchNormalization())\n",
        "  model.add(MaxPooling2D(pool_size=(2, 2)))\n",
        "  model.add(Dropout(0.1))\n",
        "  model.add(Flatten())\n",
        "  model.add(Dense(10, kernel_regularizer=regularizers.l2(0.001),bias_regularizer=regularizers.l2(0.001),activity_regularizer=regularizers.l2(0.001),activation='softmax',use_bias=False))\n",
        "\n",
        "\n",
        "  optimizer = keras.optimizers.SGD(lr=0.0005)\n",
        "  model.compile(loss='categorical_crossentropy',optimizer=optimizer,metrics=['accuracy'])\n",
        "  history = model.fit(x_train, y_train,batch_size=batch_size,epochs=epoch, validation_data=(x_test, y_test),shuffle=True)\n",
        "  plt.plot(history.history['accuracy'])  \n",
        "\n",
        "plt.title('Model accuracy')\n",
        "plt.ylabel('Accuracy')\n",
        "plt.xlabel('Epoch')\n",
        "plt.legend(['None', 'sigmoid', 'tanh', 'relu'], loc='upper left')\n",
        "\n",
        "\n",
        "\n",
        "\n",
        "\n",
        "\n",
        "\n",
        "\n",
        "\n",
        "\n"
      ],
      "execution_count": 4,
      "outputs": [
        {
          "output_type": "stream",
          "text": [
            "Train on 5000 samples, validate on 1000 samples\n",
            "Epoch 1/20\n",
            "5000/5000 [==============================] - 11s 2ms/sample - loss: 3.1220 - accuracy: 0.1550 - val_loss: 2.3143 - val_accuracy: 0.1620\n",
            "Epoch 2/20\n",
            "5000/5000 [==============================] - 10s 2ms/sample - loss: 2.5307 - accuracy: 0.2208 - val_loss: 2.1164 - val_accuracy: 0.2560\n",
            "Epoch 3/20\n",
            "5000/5000 [==============================] - 10s 2ms/sample - loss: 2.2835 - accuracy: 0.2654 - val_loss: 2.0315 - val_accuracy: 0.2900\n",
            "Epoch 4/20\n",
            "5000/5000 [==============================] - 10s 2ms/sample - loss: 2.1812 - accuracy: 0.2826 - val_loss: 1.9316 - val_accuracy: 0.3150\n",
            "Epoch 5/20\n",
            "5000/5000 [==============================] - 10s 2ms/sample - loss: 2.0925 - accuracy: 0.3102 - val_loss: 1.9191 - val_accuracy: 0.3160\n",
            "Epoch 6/20\n",
            "5000/5000 [==============================] - 10s 2ms/sample - loss: 2.0108 - accuracy: 0.3324 - val_loss: 1.8881 - val_accuracy: 0.3270\n",
            "Epoch 7/20\n",
            "5000/5000 [==============================] - 10s 2ms/sample - loss: 1.9349 - accuracy: 0.3436 - val_loss: 1.7816 - val_accuracy: 0.3760\n",
            "Epoch 8/20\n",
            "5000/5000 [==============================] - 10s 2ms/sample - loss: 1.9096 - accuracy: 0.3580 - val_loss: 1.7490 - val_accuracy: 0.3860\n",
            "Epoch 9/20\n",
            "5000/5000 [==============================] - 10s 2ms/sample - loss: 1.8732 - accuracy: 0.3568 - val_loss: 1.7299 - val_accuracy: 0.3800\n",
            "Epoch 10/20\n",
            "5000/5000 [==============================] - 10s 2ms/sample - loss: 1.8330 - accuracy: 0.3796 - val_loss: 1.7281 - val_accuracy: 0.3880\n",
            "Epoch 11/20\n",
            "5000/5000 [==============================] - 10s 2ms/sample - loss: 1.7735 - accuracy: 0.3930 - val_loss: 1.6784 - val_accuracy: 0.4030\n",
            "Epoch 12/20\n",
            "5000/5000 [==============================] - 10s 2ms/sample - loss: 1.7530 - accuracy: 0.3926 - val_loss: 1.6910 - val_accuracy: 0.3880\n",
            "Epoch 13/20\n",
            "5000/5000 [==============================] - 10s 2ms/sample - loss: 1.7301 - accuracy: 0.4020 - val_loss: 1.7408 - val_accuracy: 0.3750\n",
            "Epoch 14/20\n",
            "5000/5000 [==============================] - 10s 2ms/sample - loss: 1.7181 - accuracy: 0.4048 - val_loss: 1.6440 - val_accuracy: 0.4170\n",
            "Epoch 15/20\n",
            "5000/5000 [==============================] - 10s 2ms/sample - loss: 1.7092 - accuracy: 0.4124 - val_loss: 1.6360 - val_accuracy: 0.4310\n",
            "Epoch 16/20\n",
            "5000/5000 [==============================] - 10s 2ms/sample - loss: 1.6585 - accuracy: 0.4238 - val_loss: 1.6081 - val_accuracy: 0.4330\n",
            "Epoch 17/20\n",
            "5000/5000 [==============================] - 10s 2ms/sample - loss: 1.6625 - accuracy: 0.4286 - val_loss: 1.6221 - val_accuracy: 0.4200\n",
            "Epoch 18/20\n",
            "5000/5000 [==============================] - 10s 2ms/sample - loss: 1.6460 - accuracy: 0.4246 - val_loss: 1.5931 - val_accuracy: 0.4200\n",
            "Epoch 19/20\n",
            "5000/5000 [==============================] - 10s 2ms/sample - loss: 1.6189 - accuracy: 0.4330 - val_loss: 1.5694 - val_accuracy: 0.4410\n",
            "Epoch 20/20\n",
            "5000/5000 [==============================] - 10s 2ms/sample - loss: 1.6097 - accuracy: 0.4322 - val_loss: 1.6221 - val_accuracy: 0.4210\n",
            "Train on 5000 samples, validate on 1000 samples\n",
            "Epoch 1/20\n",
            "5000/5000 [==============================] - 11s 2ms/sample - loss: 2.9783 - accuracy: 0.1804 - val_loss: 2.2503 - val_accuracy: 0.1660\n",
            "Epoch 2/20\n",
            "5000/5000 [==============================] - 10s 2ms/sample - loss: 2.4774 - accuracy: 0.2376 - val_loss: 2.1877 - val_accuracy: 0.2150\n",
            "Epoch 3/20\n",
            "5000/5000 [==============================] - 10s 2ms/sample - loss: 2.2847 - accuracy: 0.2782 - val_loss: 2.0877 - val_accuracy: 0.3010\n",
            "Epoch 4/20\n",
            "5000/5000 [==============================] - 10s 2ms/sample - loss: 2.1862 - accuracy: 0.2944 - val_loss: 1.9693 - val_accuracy: 0.3340\n",
            "Epoch 5/20\n",
            "5000/5000 [==============================] - 10s 2ms/sample - loss: 2.0777 - accuracy: 0.3154 - val_loss: 1.8797 - val_accuracy: 0.3670\n",
            "Epoch 6/20\n",
            "5000/5000 [==============================] - 10s 2ms/sample - loss: 2.0035 - accuracy: 0.3350 - val_loss: 1.8259 - val_accuracy: 0.3690\n",
            "Epoch 7/20\n",
            "5000/5000 [==============================] - 10s 2ms/sample - loss: 1.9615 - accuracy: 0.3418 - val_loss: 1.7899 - val_accuracy: 0.3770\n",
            "Epoch 8/20\n",
            "5000/5000 [==============================] - 10s 2ms/sample - loss: 1.9142 - accuracy: 0.3486 - val_loss: 1.7840 - val_accuracy: 0.3830\n",
            "Epoch 9/20\n",
            "5000/5000 [==============================] - 10s 2ms/sample - loss: 1.8785 - accuracy: 0.3620 - val_loss: 1.7490 - val_accuracy: 0.3870\n",
            "Epoch 10/20\n",
            "5000/5000 [==============================] - 10s 2ms/sample - loss: 1.8389 - accuracy: 0.3680 - val_loss: 1.7180 - val_accuracy: 0.3870\n",
            "Epoch 11/20\n",
            "5000/5000 [==============================] - 10s 2ms/sample - loss: 1.8244 - accuracy: 0.3700 - val_loss: 1.7529 - val_accuracy: 0.3990\n",
            "Epoch 12/20\n",
            "5000/5000 [==============================] - 10s 2ms/sample - loss: 1.7718 - accuracy: 0.3868 - val_loss: 1.6688 - val_accuracy: 0.4150\n",
            "Epoch 13/20\n",
            "5000/5000 [==============================] - 10s 2ms/sample - loss: 1.7613 - accuracy: 0.3828 - val_loss: 1.6795 - val_accuracy: 0.4020\n",
            "Epoch 14/20\n",
            "5000/5000 [==============================] - 10s 2ms/sample - loss: 1.7401 - accuracy: 0.3952 - val_loss: 1.6211 - val_accuracy: 0.4290\n",
            "Epoch 15/20\n",
            "5000/5000 [==============================] - 10s 2ms/sample - loss: 1.7077 - accuracy: 0.4056 - val_loss: 1.6100 - val_accuracy: 0.4400\n",
            "Epoch 16/20\n",
            "5000/5000 [==============================] - 10s 2ms/sample - loss: 1.6948 - accuracy: 0.4160 - val_loss: 1.6269 - val_accuracy: 0.4190\n",
            "Epoch 17/20\n",
            "5000/5000 [==============================] - 10s 2ms/sample - loss: 1.6779 - accuracy: 0.4226 - val_loss: 1.6231 - val_accuracy: 0.4300\n",
            "Epoch 18/20\n",
            "5000/5000 [==============================] - 10s 2ms/sample - loss: 1.6643 - accuracy: 0.4170 - val_loss: 1.6124 - val_accuracy: 0.4250\n",
            "Epoch 19/20\n",
            "5000/5000 [==============================] - 10s 2ms/sample - loss: 1.6384 - accuracy: 0.4310 - val_loss: 1.5545 - val_accuracy: 0.4490\n",
            "Epoch 20/20\n",
            "5000/5000 [==============================] - 10s 2ms/sample - loss: 1.6212 - accuracy: 0.4382 - val_loss: 1.5681 - val_accuracy: 0.4390\n",
            "Train on 5000 samples, validate on 1000 samples\n",
            "Epoch 1/20\n",
            "5000/5000 [==============================] - 11s 2ms/sample - loss: 3.0656 - accuracy: 0.1540 - val_loss: 2.3500 - val_accuracy: 0.1310\n",
            "Epoch 2/20\n",
            "5000/5000 [==============================] - 10s 2ms/sample - loss: 2.4907 - accuracy: 0.2182 - val_loss: 2.1019 - val_accuracy: 0.2520\n",
            "Epoch 3/20\n",
            "5000/5000 [==============================] - 10s 2ms/sample - loss: 2.2866 - accuracy: 0.2622 - val_loss: 2.0856 - val_accuracy: 0.2670\n",
            "Epoch 4/20\n",
            "5000/5000 [==============================] - 10s 2ms/sample - loss: 2.1710 - accuracy: 0.2888 - val_loss: 1.9550 - val_accuracy: 0.3160\n",
            "Epoch 5/20\n",
            "5000/5000 [==============================] - 10s 2ms/sample - loss: 2.0850 - accuracy: 0.3064 - val_loss: 1.9101 - val_accuracy: 0.3210\n",
            "Epoch 6/20\n",
            "5000/5000 [==============================] - 10s 2ms/sample - loss: 2.0335 - accuracy: 0.3208 - val_loss: 1.9188 - val_accuracy: 0.3270\n",
            "Epoch 7/20\n",
            "5000/5000 [==============================] - 10s 2ms/sample - loss: 1.9747 - accuracy: 0.3410 - val_loss: 1.8143 - val_accuracy: 0.3650\n",
            "Epoch 8/20\n",
            "5000/5000 [==============================] - 10s 2ms/sample - loss: 1.9282 - accuracy: 0.3416 - val_loss: 1.7988 - val_accuracy: 0.3680\n",
            "Epoch 9/20\n",
            "5000/5000 [==============================] - 10s 2ms/sample - loss: 1.8694 - accuracy: 0.3608 - val_loss: 1.7646 - val_accuracy: 0.3850\n",
            "Epoch 10/20\n",
            "5000/5000 [==============================] - 10s 2ms/sample - loss: 1.8529 - accuracy: 0.3690 - val_loss: 1.7513 - val_accuracy: 0.3700\n",
            "Epoch 11/20\n",
            "5000/5000 [==============================] - 10s 2ms/sample - loss: 1.8264 - accuracy: 0.3666 - val_loss: 1.7447 - val_accuracy: 0.3840\n",
            "Epoch 12/20\n",
            "5000/5000 [==============================] - 10s 2ms/sample - loss: 1.8124 - accuracy: 0.3758 - val_loss: 1.6950 - val_accuracy: 0.3930\n",
            "Epoch 13/20\n",
            "5000/5000 [==============================] - 10s 2ms/sample - loss: 1.7536 - accuracy: 0.3910 - val_loss: 1.6867 - val_accuracy: 0.3890\n",
            "Epoch 14/20\n",
            "5000/5000 [==============================] - 10s 2ms/sample - loss: 1.7343 - accuracy: 0.3972 - val_loss: 1.6779 - val_accuracy: 0.4010\n",
            "Epoch 15/20\n",
            "5000/5000 [==============================] - 10s 2ms/sample - loss: 1.7171 - accuracy: 0.4088 - val_loss: 1.6739 - val_accuracy: 0.4050\n",
            "Epoch 16/20\n",
            "5000/5000 [==============================] - 10s 2ms/sample - loss: 1.6990 - accuracy: 0.4066 - val_loss: 1.6809 - val_accuracy: 0.4100\n",
            "Epoch 17/20\n",
            "5000/5000 [==============================] - 10s 2ms/sample - loss: 1.6803 - accuracy: 0.4142 - val_loss: 1.6280 - val_accuracy: 0.4230\n",
            "Epoch 18/20\n",
            "5000/5000 [==============================] - 10s 2ms/sample - loss: 1.6762 - accuracy: 0.4104 - val_loss: 1.6153 - val_accuracy: 0.4300\n",
            "Epoch 19/20\n",
            "5000/5000 [==============================] - 10s 2ms/sample - loss: 1.6618 - accuracy: 0.4194 - val_loss: 1.5975 - val_accuracy: 0.4330\n",
            "Epoch 20/20\n",
            "5000/5000 [==============================] - 10s 2ms/sample - loss: 1.6226 - accuracy: 0.4308 - val_loss: 1.5926 - val_accuracy: 0.4410\n",
            "Train on 5000 samples, validate on 1000 samples\n",
            "Epoch 1/20\n",
            "5000/5000 [==============================] - 11s 2ms/sample - loss: 3.1866 - accuracy: 0.1674 - val_loss: 2.2452 - val_accuracy: 0.1820\n",
            "Epoch 2/20\n",
            "5000/5000 [==============================] - 10s 2ms/sample - loss: 2.6194 - accuracy: 0.2158 - val_loss: 2.1336 - val_accuracy: 0.2570\n",
            "Epoch 3/20\n",
            "5000/5000 [==============================] - 10s 2ms/sample - loss: 2.4402 - accuracy: 0.2430 - val_loss: 2.1024 - val_accuracy: 0.2810\n",
            "Epoch 4/20\n",
            "5000/5000 [==============================] - 10s 2ms/sample - loss: 2.2761 - accuracy: 0.2606 - val_loss: 2.0057 - val_accuracy: 0.2980\n",
            "Epoch 5/20\n",
            "5000/5000 [==============================] - 10s 2ms/sample - loss: 2.2159 - accuracy: 0.2858 - val_loss: 1.9620 - val_accuracy: 0.2930\n",
            "Epoch 6/20\n",
            "5000/5000 [==============================] - 10s 2ms/sample - loss: 2.1360 - accuracy: 0.2862 - val_loss: 1.9151 - val_accuracy: 0.3140\n",
            "Epoch 7/20\n",
            "5000/5000 [==============================] - 10s 2ms/sample - loss: 2.0726 - accuracy: 0.3038 - val_loss: 1.8690 - val_accuracy: 0.3100\n",
            "Epoch 8/20\n",
            "5000/5000 [==============================] - 10s 2ms/sample - loss: 2.0223 - accuracy: 0.3136 - val_loss: 1.8536 - val_accuracy: 0.3210\n",
            "Epoch 9/20\n",
            "5000/5000 [==============================] - 10s 2ms/sample - loss: 1.9636 - accuracy: 0.3244 - val_loss: 1.7926 - val_accuracy: 0.3470\n",
            "Epoch 10/20\n",
            "5000/5000 [==============================] - 10s 2ms/sample - loss: 1.9295 - accuracy: 0.3414 - val_loss: 1.7931 - val_accuracy: 0.3650\n",
            "Epoch 11/20\n",
            "5000/5000 [==============================] - 10s 2ms/sample - loss: 1.9113 - accuracy: 0.3450 - val_loss: 1.8197 - val_accuracy: 0.3570\n",
            "Epoch 12/20\n",
            "5000/5000 [==============================] - 10s 2ms/sample - loss: 1.8800 - accuracy: 0.3554 - val_loss: 1.7230 - val_accuracy: 0.3730\n",
            "Epoch 13/20\n",
            "5000/5000 [==============================] - 10s 2ms/sample - loss: 1.8386 - accuracy: 0.3686 - val_loss: 1.7303 - val_accuracy: 0.3650\n",
            "Epoch 14/20\n",
            "5000/5000 [==============================] - 10s 2ms/sample - loss: 1.8091 - accuracy: 0.3664 - val_loss: 1.7372 - val_accuracy: 0.3680\n",
            "Epoch 15/20\n",
            "5000/5000 [==============================] - 10s 2ms/sample - loss: 1.8020 - accuracy: 0.3744 - val_loss: 1.7396 - val_accuracy: 0.4000\n",
            "Epoch 16/20\n",
            "5000/5000 [==============================] - 10s 2ms/sample - loss: 1.7701 - accuracy: 0.3762 - val_loss: 1.6560 - val_accuracy: 0.4090\n",
            "Epoch 17/20\n",
            "5000/5000 [==============================] - 10s 2ms/sample - loss: 1.7462 - accuracy: 0.3918 - val_loss: 1.6475 - val_accuracy: 0.4200\n",
            "Epoch 18/20\n",
            "5000/5000 [==============================] - 10s 2ms/sample - loss: 1.7167 - accuracy: 0.3976 - val_loss: 1.6288 - val_accuracy: 0.4170\n",
            "Epoch 19/20\n",
            "5000/5000 [==============================] - 10s 2ms/sample - loss: 1.7181 - accuracy: 0.3970 - val_loss: 1.6303 - val_accuracy: 0.4180\n",
            "Epoch 20/20\n",
            "5000/5000 [==============================] - 10s 2ms/sample - loss: 1.6828 - accuracy: 0.4140 - val_loss: 1.6444 - val_accuracy: 0.4120\n"
          ],
          "name": "stdout"
        },
        {
          "output_type": "execute_result",
          "data": {
            "text/plain": [
              "<matplotlib.legend.Legend at 0x7fc618d935c0>"
            ]
          },
          "metadata": {
            "tags": []
          },
          "execution_count": 4
        },
        {
          "output_type": "display_data",
          "data": {
            "image/png": "[encoded data removed]",
            "text/plain": [
              "<Figure size 432x288 with 1 Axes>"
            ]
          },
          "metadata": {
            "tags": []
          }
        }
      ]
    }
  ]
}
